{
 "cells": [
  {
   "cell_type": "code",
   "execution_count": 6,
   "metadata": {},
   "outputs": [],
   "source": [
    "a = [293 , 377 , 4 , 56 , 32 , 2 , 77 , 100 , 53 , 23 , 44 , 70 , 23 , 1]"
   ]
  },
  {
   "cell_type": "code",
   "execution_count": 14,
   "metadata": {},
   "outputs": [
    {
     "name": "stdout",
     "output_type": "stream",
     "text": [
      "he minimum in an given array of numbers : 1\n"
     ]
    }
   ],
   "source": [
    "min = a[0]\n",
    "for i in range(0, len(a)):\n",
    "    if(a[i] < min):\n",
    "        b = a[i]\n",
    "print('he minimum in an given array of numbers :',b)\n",
    "\n",
    "\n"
   ]
  },
  {
   "cell_type": "code",
   "execution_count": null,
   "metadata": {},
   "outputs": [],
   "source": []
  }
 ],
 "metadata": {
  "kernelspec": {
   "display_name": "ENVNAME",
   "language": "python",
   "name": "python3"
  },
  "language_info": {
   "codemirror_mode": {
    "name": "ipython",
    "version": 3
   },
   "file_extension": ".py",
   "mimetype": "text/x-python",
   "name": "python",
   "nbconvert_exporter": "python",
   "pygments_lexer": "ipython3",
   "version": "3.10.6 | packaged by conda-forge | (main, Oct 24 2022, 16:02:16) [MSC v.1916 64 bit (AMD64)]"
  },
  "orig_nbformat": 4,
  "vscode": {
   "interpreter": {
    "hash": "bd4dd8c074ec1ce9c598031ac4fab55e55bc4960b22b1c72331a0851d5055647"
   }
  }
 },
 "nbformat": 4,
 "nbformat_minor": 2
}
